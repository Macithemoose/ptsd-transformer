{
 "cells": [
  {
   "cell_type": "code",
   "execution_count": 1,
   "metadata": {},
   "outputs": [],
   "source": [
    "import tensorflow as tf\n",
    "import pandas as pd\n",
    "import numpy as np\n",
    "import os\n",
    "import re"
   ]
  },
  {
   "cell_type": "code",
   "execution_count": 2,
   "metadata": {},
   "outputs": [],
   "source": [
    "labels = pd.read_csv(\"empathy_scores.csv\", encoding=\"ISO-8859-1\")\n",
    "labels = labels[['Participant nr', 'Total Score original']]\n",
    "\n",
    "avg_score = labels['Total Score original'].mean()\n",
    "\n",
    "labels['Total Score original'] = labels['Total Score original'].apply(lambda x: 1 if x > avg_score else 0)\n",
    "\n",
    "labels = labels.rename(columns={\"Participant nr\":\"Participant\", \"Total Score original\":\"Label\"})"
   ]
  },
  {
   "cell_type": "code",
   "execution_count": 3,
   "metadata": {},
   "outputs": [],
   "source": [
    "dataframes = []\n",
    "data_labels = []\n",
    "max_length = 10000\n",
    "data_path = 'data/grey_blue'\n",
    "filename_pattern = re.compile(r\"grey_blue_participant_(\\d+)_trial_(\\d+)\")\n",
    "\n",
    "\n",
    "# Making a list of dataframes and adding labels\n",
    "for filename in os.listdir(data_path):\n",
    "    match = filename_pattern.match(filename)\n",
    "    if match:\n",
    "        participant_id = int(match.group(1))\n",
    "        matched_rows = labels.loc[labels['Participant'] == participant_id]\n",
    "        if len(matched_rows) > 0:\n",
    "            label = matched_rows.iloc[0].values\n",
    "            data_labels.append(label)\n",
    "        else:\n",
    "            print(f\"Warning: no matching row found for participant {participant_id}\")\n",
    "        \n",
    "    df = pd.read_csv(os.path.join(data_path, filename))\n",
    "    dataframes.append(df)"
   ]
  },
  {
   "cell_type": "code",
   "execution_count": 4,
   "metadata": {},
   "outputs": [
    {
     "data": {
      "text/html": [
       "<div>\n",
       "<style scoped>\n",
       "    .dataframe tbody tr th:only-of-type {\n",
       "        vertical-align: middle;\n",
       "    }\n",
       "\n",
       "    .dataframe tbody tr th {\n",
       "        vertical-align: top;\n",
       "    }\n",
       "\n",
       "    .dataframe thead th {\n",
       "        text-align: right;\n",
       "    }\n",
       "</style>\n",
       "<table border=\"1\" class=\"dataframe\">\n",
       "  <thead>\n",
       "    <tr style=\"text-align: right;\">\n",
       "      <th></th>\n",
       "      <th>Validity right</th>\n",
       "    </tr>\n",
       "  </thead>\n",
       "  <tbody>\n",
       "    <tr>\n",
       "      <th>0</th>\n",
       "      <td>1</td>\n",
       "    </tr>\n",
       "    <tr>\n",
       "      <th>1</th>\n",
       "      <td>1</td>\n",
       "    </tr>\n",
       "    <tr>\n",
       "      <th>2</th>\n",
       "      <td>1</td>\n",
       "    </tr>\n",
       "    <tr>\n",
       "      <th>3</th>\n",
       "      <td>1</td>\n",
       "    </tr>\n",
       "    <tr>\n",
       "      <th>4</th>\n",
       "      <td>1</td>\n",
       "    </tr>\n",
       "    <tr>\n",
       "      <th>...</th>\n",
       "      <td>...</td>\n",
       "    </tr>\n",
       "    <tr>\n",
       "      <th>7201</th>\n",
       "      <td>1</td>\n",
       "    </tr>\n",
       "    <tr>\n",
       "      <th>7202</th>\n",
       "      <td>1</td>\n",
       "    </tr>\n",
       "    <tr>\n",
       "      <th>7203</th>\n",
       "      <td>1</td>\n",
       "    </tr>\n",
       "    <tr>\n",
       "      <th>7204</th>\n",
       "      <td>1</td>\n",
       "    </tr>\n",
       "    <tr>\n",
       "      <th>7205</th>\n",
       "      <td>0</td>\n",
       "    </tr>\n",
       "  </tbody>\n",
       "</table>\n",
       "<p>7206 rows × 1 columns</p>\n",
       "</div>"
      ],
      "text/plain": [
       "      Validity right\n",
       "0                  1\n",
       "1                  1\n",
       "2                  1\n",
       "3                  1\n",
       "4                  1\n",
       "...              ...\n",
       "7201               1\n",
       "7202               1\n",
       "7203               1\n",
       "7204               1\n",
       "7205               0\n",
       "\n",
       "[7206 rows x 1 columns]"
      ]
     },
     "execution_count": 4,
     "metadata": {},
     "output_type": "execute_result"
    }
   ],
   "source": [
    "df = dataframes[1]\n",
    "df[['Validity right']]"
   ]
  },
  {
   "cell_type": "code",
   "execution_count": 5,
   "metadata": {},
   "outputs": [
    {
     "data": {
      "text/plain": [
       "(86, 2)"
      ]
     },
     "execution_count": 5,
     "metadata": {},
     "output_type": "execute_result"
    }
   ],
   "source": [
    "data_labels = pd.DataFrame(data_labels)\n",
    "data_labels.shape"
   ]
  },
  {
   "cell_type": "code",
   "execution_count": 6,
   "metadata": {},
   "outputs": [],
   "source": [
    "data_labels = data_labels[[1]]"
   ]
  },
  {
   "cell_type": "code",
   "execution_count": 7,
   "metadata": {},
   "outputs": [
    {
     "data": {
      "text/html": [
       "<div>\n",
       "<style scoped>\n",
       "    .dataframe tbody tr th:only-of-type {\n",
       "        vertical-align: middle;\n",
       "    }\n",
       "\n",
       "    .dataframe tbody tr th {\n",
       "        vertical-align: top;\n",
       "    }\n",
       "\n",
       "    .dataframe thead th {\n",
       "        text-align: right;\n",
       "    }\n",
       "</style>\n",
       "<table border=\"1\" class=\"dataframe\">\n",
       "  <thead>\n",
       "    <tr style=\"text-align: right;\">\n",
       "      <th></th>\n",
       "      <th>1</th>\n",
       "    </tr>\n",
       "  </thead>\n",
       "  <tbody>\n",
       "    <tr>\n",
       "      <th>0</th>\n",
       "      <td>0</td>\n",
       "    </tr>\n",
       "    <tr>\n",
       "      <th>1</th>\n",
       "      <td>0</td>\n",
       "    </tr>\n",
       "    <tr>\n",
       "      <th>2</th>\n",
       "      <td>0</td>\n",
       "    </tr>\n",
       "    <tr>\n",
       "      <th>3</th>\n",
       "      <td>0</td>\n",
       "    </tr>\n",
       "    <tr>\n",
       "      <th>4</th>\n",
       "      <td>1</td>\n",
       "    </tr>\n",
       "    <tr>\n",
       "      <th>...</th>\n",
       "      <td>...</td>\n",
       "    </tr>\n",
       "    <tr>\n",
       "      <th>81</th>\n",
       "      <td>0</td>\n",
       "    </tr>\n",
       "    <tr>\n",
       "      <th>82</th>\n",
       "      <td>0</td>\n",
       "    </tr>\n",
       "    <tr>\n",
       "      <th>83</th>\n",
       "      <td>0</td>\n",
       "    </tr>\n",
       "    <tr>\n",
       "      <th>84</th>\n",
       "      <td>0</td>\n",
       "    </tr>\n",
       "    <tr>\n",
       "      <th>85</th>\n",
       "      <td>0</td>\n",
       "    </tr>\n",
       "  </tbody>\n",
       "</table>\n",
       "<p>86 rows × 1 columns</p>\n",
       "</div>"
      ],
      "text/plain": [
       "    1\n",
       "0   0\n",
       "1   0\n",
       "2   0\n",
       "3   0\n",
       "4   1\n",
       ".. ..\n",
       "81  0\n",
       "82  0\n",
       "83  0\n",
       "84  0\n",
       "85  0\n",
       "\n",
       "[86 rows x 1 columns]"
      ]
     },
     "execution_count": 7,
     "metadata": {},
     "output_type": "execute_result"
    }
   ],
   "source": [
    "data_labels"
   ]
  },
  {
   "cell_type": "code",
   "execution_count": 8,
   "metadata": {},
   "outputs": [
    {
     "name": "stdout",
     "output_type": "stream",
     "text": [
      "86\n",
      "40\n"
     ]
    }
   ],
   "source": [
    "num_files = len(dataframes)\n",
    "# Number of features is based on the first DataFrame's columns\n",
    "num_features = dataframes[0].shape[1] if num_files > 0 else 0\n",
    "\n",
    "print(num_files)\n",
    "print(num_features)"
   ]
  },
  {
   "cell_type": "code",
   "execution_count": 9,
   "metadata": {},
   "outputs": [],
   "source": [
    "cleaned_arrays = []\n",
    "fill_value = 0\n",
    "for df in dataframes:\n",
    "    arr = df.to_numpy()  # shape: (time, features)\n",
    "    T, F = arr.shape\n",
    "    if T >= max_length:\n",
    "        arr = arr[:max_length, :]\n",
    "    elif T < max_length:\n",
    "        padded = np.full((max_length, F), fill_value, dtype=arr.dtype)\n",
    "        padded[:T, :] = arr\n",
    "        arr = padded\n",
    "    cleaned_arrays.append(arr)\n"
   ]
  },
  {
   "cell_type": "code",
   "execution_count": 10,
   "metadata": {},
   "outputs": [
    {
     "name": "stdout",
     "output_type": "stream",
     "text": [
      "(86, 10000, 40)\n"
     ]
    }
   ],
   "source": [
    "data_tensor = np.stack(cleaned_arrays, axis=0)\n",
    "print(data_tensor.shape)"
   ]
  },
  {
   "cell_type": "markdown",
   "metadata": {},
   "source": [
    "**Making all the sliding windows**"
   ]
  },
  {
   "cell_type": "code",
   "execution_count": 34,
   "metadata": {},
   "outputs": [
    {
     "name": "stdout",
     "output_type": "stream",
     "text": [
      "(16426, 500, 40)\n"
     ]
    }
   ],
   "source": [
    "def apply_sliding_window(data, window_size=100, step_size=50):\n",
    "    num_samples, time_length, num_features = data.shape\n",
    "    windows = []\n",
    "\n",
    "    for sample in range(num_samples):\n",
    "        for start in range(0, time_length - window_size + 1, step_size):\n",
    "            windows.append(data[sample, start:start + window_size, :])\n",
    "\n",
    "    return np.array(windows)\n",
    "\n",
    "window_size = 500\n",
    "step_size = 50\n",
    "\n",
    "# Apply sliding window\n",
    "windowed_data = apply_sliding_window(data_tensor, window_size, step_size)\n",
    "print(windowed_data.shape)  # Expected: (86 * num_windows, 100, 40)\n"
   ]
  },
  {
   "cell_type": "code",
   "execution_count": 35,
   "metadata": {},
   "outputs": [
    {
     "data": {
      "text/plain": [
       "(11498, 500, 40)"
      ]
     },
     "execution_count": 35,
     "metadata": {},
     "output_type": "execute_result"
    }
   ],
   "source": [
    "# 70/30 train test split\n",
    "num_train = int(0.7 * windowed_data.shape[0])\n",
    "\n",
    "data_train = windowed_data[:num_train, :, :] # :43 if train and val\n",
    "data_train.shape"
   ]
  },
  {
   "cell_type": "code",
   "execution_count": 36,
   "metadata": {},
   "outputs": [
    {
     "data": {
      "text/plain": [
       "(4928, 500, 40)"
      ]
     },
     "execution_count": 36,
     "metadata": {},
     "output_type": "execute_result"
    }
   ],
   "source": [
    "data_test = windowed_data[num_train:, :, :]\n",
    "\n",
    "data_test.shape"
   ]
  },
  {
   "cell_type": "code",
   "execution_count": 37,
   "metadata": {},
   "outputs": [],
   "source": [
    "np.save(\"data/tensors/data_train.npy\", data_train)\n",
    "np.save(\"data/tensors/data_test.npy\", data_test)"
   ]
  },
  {
   "cell_type": "code",
   "execution_count": 39,
   "metadata": {},
   "outputs": [],
   "source": [
    "num_windows_per_sample = int(((data_tensor.shape[1] - window_size) / step_size) + 1)\n",
    "expanded_labels = np.repeat(data_labels, num_windows_per_sample, axis=0)"
   ]
  },
  {
   "cell_type": "code",
   "execution_count": 42,
   "metadata": {},
   "outputs": [],
   "source": [
    "Y_train = expanded_labels[:num_train]\n",
    "Y_test = expanded_labels[num_train:]"
   ]
  },
  {
   "cell_type": "code",
   "execution_count": 43,
   "metadata": {},
   "outputs": [],
   "source": [
    "np.save(\"labels/Y_train.npy\", Y_train)\n",
    "np.save(\"labels/Y_test.npy\", Y_test)"
   ]
  },
  {
   "cell_type": "code",
   "execution_count": null,
   "metadata": {},
   "outputs": [],
   "source": []
  }
 ],
 "metadata": {
  "kernelspec": {
   "display_name": "base",
   "language": "python",
   "name": "python3"
  },
  "language_info": {
   "codemirror_mode": {
    "name": "ipython",
    "version": 3
   },
   "file_extension": ".py",
   "mimetype": "text/x-python",
   "name": "python",
   "nbconvert_exporter": "python",
   "pygments_lexer": "ipython3",
   "version": "3.12.4"
  }
 },
 "nbformat": 4,
 "nbformat_minor": 2
}
