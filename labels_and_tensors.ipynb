{
 "cells": [
  {
   "cell_type": "code",
   "execution_count": 1,
   "metadata": {},
   "outputs": [],
   "source": [
    "import tensorflow as tf\n",
    "import pandas as pd\n",
    "import numpy as np\n",
    "import os\n",
    "import re"
   ]
  },
  {
   "cell_type": "code",
   "execution_count": 2,
   "metadata": {},
   "outputs": [],
   "source": [
    "labels = pd.read_csv(\"empathy_scores.csv\", encoding=\"ISO-8859-1\")\n",
    "labels = labels[['Participant nr', 'Total Score original']]\n",
    "\n",
    "avg_score = labels['Total Score original'].mean()\n",
    "\n",
    "labels['Total Score original'] = labels['Total Score original'].apply(lambda x: 1 if x > avg_score else 0)\n",
    "\n",
    "labels = labels.rename(columns={\"Participant nr\":\"Participant\", \"Total Score original\":\"Label\"})"
   ]
  },
  {
   "cell_type": "code",
   "execution_count": 9,
   "metadata": {},
   "outputs": [],
   "source": [
    "dataframes = []\n",
    "data_labels = []\n",
    "max_length = 10000\n",
    "data_path = 'data/grey_blue'\n",
    "filename_pattern = re.compile(r\"grey_blue_participant_(\\d+)_trial_(\\d+)\")\n",
    "\n",
    "\n",
    "# Making a list of dataframes and adding labels\n",
    "for filename in os.listdir(data_path):\n",
    "    match = filename_pattern.match(filename)\n",
    "    if match:\n",
    "        participant_id = int(match.group(1))\n",
    "        matched_rows = labels.loc[labels['Participant'] == participant_id]\n",
    "        if len(matched_rows) > 0:\n",
    "            label = matched_rows.iloc[0].values\n",
    "            data_labels.append(label)\n",
    "        else:\n",
    "            print(f\"Warning: no matching row found for participant {participant_id}\")\n",
    "        \n",
    "    df = pd.read_csv(os.path.join(data_path, filename))\n",
    "    dataframes.append(df)\n",
    "\n",
    "data_labels = pd.DataFrame(data_labels)"
   ]
  },
  {
   "cell_type": "code",
   "execution_count": 14,
   "metadata": {},
   "outputs": [],
   "source": [
    "data_labels.to_csv(\"data_labels.csv\", index=False)"
   ]
  },
  {
   "cell_type": "code",
   "execution_count": 15,
   "metadata": {},
   "outputs": [
    {
     "name": "stdout",
     "output_type": "stream",
     "text": [
      "86\n",
      "40\n"
     ]
    }
   ],
   "source": [
    "num_files = len(dataframes)\n",
    "# Number of features is based on the first DataFrame's columns\n",
    "num_features = dataframes[0].shape[1] if num_files > 0 else 0\n",
    "\n",
    "print(num_files)\n",
    "print(num_features)"
   ]
  },
  {
   "cell_type": "code",
   "execution_count": 16,
   "metadata": {},
   "outputs": [],
   "source": [
    "cleaned_arrays = []\n",
    "fill_value = 0\n",
    "for df in dataframes:\n",
    "    arr = df.to_numpy()  # shape: (time, features)\n",
    "    T, F = arr.shape\n",
    "    if T >= max_length:\n",
    "        arr = arr[:max_length, :]\n",
    "    elif T < max_length:\n",
    "        padded = np.full((max_length, F), fill_value, dtype=arr.dtype)\n",
    "        padded[:T, :] = arr\n",
    "        arr = padded\n",
    "    cleaned_arrays.append(arr)\n"
   ]
  },
  {
   "cell_type": "code",
   "execution_count": 18,
   "metadata": {},
   "outputs": [
    {
     "name": "stdout",
     "output_type": "stream",
     "text": [
      "(86, 10000, 40)\n"
     ]
    }
   ],
   "source": [
    "data_tensor = np.stack(cleaned_arrays, axis=0)\n",
    "print(data_tensor.shape)"
   ]
  },
  {
   "cell_type": "code",
   "execution_count": 20,
   "metadata": {},
   "outputs": [
    {
     "data": {
      "text/plain": [
       "(43, 10000, 40)"
      ]
     },
     "execution_count": 20,
     "metadata": {},
     "output_type": "execute_result"
    }
   ],
   "source": [
    "data_train = data_tensor[:43, :, :]\n",
    "data_train.shape"
   ]
  },
  {
   "cell_type": "code",
   "execution_count": 21,
   "metadata": {},
   "outputs": [],
   "source": [
    "data_val = data_tensor[43:66, : , :]"
   ]
  },
  {
   "cell_type": "code",
   "execution_count": 22,
   "metadata": {},
   "outputs": [],
   "source": [
    "data_test = data_tensor[66:, :, :]"
   ]
  },
  {
   "cell_type": "code",
   "execution_count": 24,
   "metadata": {},
   "outputs": [],
   "source": [
    "np.save(\"data/tensors/data_train.npy\", data_train)"
   ]
  },
  {
   "cell_type": "code",
   "execution_count": 25,
   "metadata": {},
   "outputs": [],
   "source": [
    "np.save(\"data/tensors/data_val.npy\", data_val)\n",
    "np.save(\"data/tensors/data_test.npy\", data_test)"
   ]
  },
  {
   "cell_type": "code",
   "execution_count": null,
   "metadata": {},
   "outputs": [],
   "source": []
  }
 ],
 "metadata": {
  "kernelspec": {
   "display_name": "base",
   "language": "python",
   "name": "python3"
  },
  "language_info": {
   "codemirror_mode": {
    "name": "ipython",
    "version": 3
   },
   "file_extension": ".py",
   "mimetype": "text/x-python",
   "name": "python",
   "nbconvert_exporter": "python",
   "pygments_lexer": "ipython3",
   "version": "3.12.4"
  }
 },
 "nbformat": 4,
 "nbformat_minor": 2
}
