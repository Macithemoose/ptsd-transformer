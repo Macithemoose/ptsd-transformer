{
 "cells": [
  {
   "cell_type": "code",
   "execution_count": 11,
   "metadata": {},
   "outputs": [],
   "source": [
    "import kagglehub\n",
    "import pandas as pd\n",
    "import numpy as np\n",
    "import os"
   ]
  },
  {
   "cell_type": "code",
   "execution_count": 12,
   "metadata": {},
   "outputs": [
    {
     "name": "stdout",
     "output_type": "stream",
     "text": [
      "Warning: Looks like you're using an outdated `kagglehub` version, please consider updating (latest version: 0.3.10)\n"
     ]
    }
   ],
   "source": [
    "path = kagglehub.dataset_download(\"priyankraval/eyet4empathy-eye-movement-and-empathy-dataset\")"
   ]
  },
  {
   "cell_type": "code",
   "execution_count": 13,
   "metadata": {},
   "outputs": [
    {
     "data": {
      "text/plain": [
       "'C:\\\\Users\\\\macik\\\\.cache\\\\kagglehub\\\\datasets\\\\priyankraval\\\\eyet4empathy-eye-movement-and-empathy-dataset\\\\versions\\\\2'"
      ]
     },
     "execution_count": 13,
     "metadata": {},
     "output_type": "execute_result"
    }
   ],
   "source": [
    "path"
   ]
  },
  {
   "cell_type": "code",
   "execution_count": 14,
   "metadata": {},
   "outputs": [],
   "source": [
    "# Cleaning file names\n",
    "data_path = \"data/\"\n",
    "\n",
    "def remove_file_beginning(data_path, sub_string):\n",
    "    for filename in os.listdir(data_path):\n",
    "        if sub_string in filename:\n",
    "            old_path = os.path.join(data_path, filename)\n",
    "            new_name = filename.replace(sub_string, \"\")\n",
    "            new_path = os.path.join(data_path, new_name)\n",
    "\n",
    "            os.rename(old_path, new_path)\n",
    "\n",
    "remove_file_beginning(data_path, \"EyeT_group_dataset_II_image_name_\")"
   ]
  },
  {
   "cell_type": "code",
   "execution_count": 15,
   "metadata": {},
   "outputs": [],
   "source": [
    "test_data = pd.read_csv(os.path.join(data_path, os.path.join(\"grey_blue/\", \"grey_blue_participant_2_trial_0.csv\")))"
   ]
  },
  {
   "cell_type": "code",
   "execution_count": 16,
   "metadata": {},
   "outputs": [],
   "source": [
    "df = pd.DataFrame(test_data)"
   ]
  },
  {
   "cell_type": "code",
   "execution_count": 17,
   "metadata": {},
   "outputs": [
    {
     "data": {
      "text/plain": [
       "Index(['Unnamed: 0', 'Recording timestamp', 'Computer timestamp', 'Sensor',\n",
       "       'Project name', 'Export date', 'Participant name', 'Recording name',\n",
       "       'Recording date', 'Recording date UTC', 'Recording start time',\n",
       "       'Recording start time UTC', 'Recording duration', 'Timeline name',\n",
       "       'Recording Fixation filter name', 'Recording software version',\n",
       "       'Recording resolution height', 'Recording resolution width',\n",
       "       'Recording monitor latency', 'Eyetracker timestamp', 'Event',\n",
       "       'Event value', 'Gaze point X', 'Gaze point Y', 'Gaze point left X',\n",
       "       'Gaze point left Y', 'Gaze point right X', 'Gaze point right Y',\n",
       "       'Gaze direction left X', 'Gaze direction left Y',\n",
       "       'Gaze direction left Z', 'Gaze direction right X',\n",
       "       'Gaze direction right Y', 'Gaze direction right Z',\n",
       "       'Pupil diameter left', 'Pupil diameter right', 'Validity left',\n",
       "       'Validity right', 'Eye position left X (DACSmm)',\n",
       "       'Eye position left Y (DACSmm)', 'Eye position left Z (DACSmm)',\n",
       "       'Eye position right X (DACSmm)', 'Eye position right Y (DACSmm)',\n",
       "       'Eye position right Z (DACSmm)', 'Gaze point left X (DACSmm)',\n",
       "       'Gaze point left Y (DACSmm)', 'Gaze point right X (DACSmm)',\n",
       "       'Gaze point right Y (DACSmm)', 'Gaze point X (MCSnorm)',\n",
       "       'Gaze point Y (MCSnorm)', 'Gaze point left X (MCSnorm)',\n",
       "       'Gaze point left Y (MCSnorm)', 'Gaze point right X (MCSnorm)',\n",
       "       'Gaze point right Y (MCSnorm)', 'Presented Stimulus name',\n",
       "       'Presented Media name', 'Presented Media width',\n",
       "       'Presented Media height', 'Presented Media position X (DACSpx)',\n",
       "       'Presented Media position Y (DACSpx)', 'Original Media width',\n",
       "       'Original Media height', 'Eye movement type', 'Gaze event duration',\n",
       "       'Eye movement type index', 'Fixation point X', 'Fixation point Y',\n",
       "       'Fixation point X (MCSnorm)', 'Fixation point Y (MCSnorm)',\n",
       "       'Mouse position X', 'Mouse position Y'],\n",
       "      dtype='object')"
      ]
     },
     "execution_count": 17,
     "metadata": {},
     "output_type": "execute_result"
    }
   ],
   "source": [
    "df.columns"
   ]
  },
  {
   "cell_type": "code",
   "execution_count": 21,
   "metadata": {},
   "outputs": [
    {
     "data": {
      "text/html": [
       "<div>\n",
       "<style scoped>\n",
       "    .dataframe tbody tr th:only-of-type {\n",
       "        vertical-align: middle;\n",
       "    }\n",
       "\n",
       "    .dataframe tbody tr th {\n",
       "        vertical-align: top;\n",
       "    }\n",
       "\n",
       "    .dataframe thead th {\n",
       "        text-align: right;\n",
       "    }\n",
       "</style>\n",
       "<table border=\"1\" class=\"dataframe\">\n",
       "  <thead>\n",
       "    <tr style=\"text-align: right;\">\n",
       "      <th></th>\n",
       "      <th>Gaze event duration</th>\n",
       "      <th>Eye movement type index</th>\n",
       "      <th>Fixation point X</th>\n",
       "      <th>Fixation point Y</th>\n",
       "      <th>Fixation point X (MCSnorm)</th>\n",
       "      <th>Fixation point Y (MCSnorm)</th>\n",
       "      <th>Mouse position X</th>\n",
       "      <th>Mouse position Y</th>\n",
       "    </tr>\n",
       "  </thead>\n",
       "  <tbody>\n",
       "    <tr>\n",
       "      <th>0</th>\n",
       "      <td>133.0</td>\n",
       "      <td>241.0</td>\n",
       "      <td>NaN</td>\n",
       "      <td>NaN</td>\n",
       "      <td>NaN</td>\n",
       "      <td>NaN</td>\n",
       "      <td>NaN</td>\n",
       "      <td>NaN</td>\n",
       "    </tr>\n",
       "    <tr>\n",
       "      <th>1</th>\n",
       "      <td>133.0</td>\n",
       "      <td>241.0</td>\n",
       "      <td>NaN</td>\n",
       "      <td>NaN</td>\n",
       "      <td>NaN</td>\n",
       "      <td>NaN</td>\n",
       "      <td>NaN</td>\n",
       "      <td>NaN</td>\n",
       "    </tr>\n",
       "    <tr>\n",
       "      <th>2</th>\n",
       "      <td>92.0</td>\n",
       "      <td>148.0</td>\n",
       "      <td>1237.0</td>\n",
       "      <td>347.0</td>\n",
       "      <td>0,6668</td>\n",
       "      <td>0,3217</td>\n",
       "      <td>NaN</td>\n",
       "      <td>NaN</td>\n",
       "    </tr>\n",
       "    <tr>\n",
       "      <th>3</th>\n",
       "      <td>92.0</td>\n",
       "      <td>148.0</td>\n",
       "      <td>1237.0</td>\n",
       "      <td>347.0</td>\n",
       "      <td>0,6668</td>\n",
       "      <td>0,3217</td>\n",
       "      <td>NaN</td>\n",
       "      <td>NaN</td>\n",
       "    </tr>\n",
       "    <tr>\n",
       "      <th>4</th>\n",
       "      <td>92.0</td>\n",
       "      <td>148.0</td>\n",
       "      <td>1237.0</td>\n",
       "      <td>347.0</td>\n",
       "      <td>0,6668</td>\n",
       "      <td>0,3217</td>\n",
       "      <td>NaN</td>\n",
       "      <td>NaN</td>\n",
       "    </tr>\n",
       "    <tr>\n",
       "      <th>...</th>\n",
       "      <td>...</td>\n",
       "      <td>...</td>\n",
       "      <td>...</td>\n",
       "      <td>...</td>\n",
       "      <td>...</td>\n",
       "      <td>...</td>\n",
       "      <td>...</td>\n",
       "      <td>...</td>\n",
       "    </tr>\n",
       "    <tr>\n",
       "      <th>7263</th>\n",
       "      <td>117.0</td>\n",
       "      <td>335.0</td>\n",
       "      <td>899.0</td>\n",
       "      <td>507.0</td>\n",
       "      <td>NaN</td>\n",
       "      <td>NaN</td>\n",
       "      <td>NaN</td>\n",
       "      <td>NaN</td>\n",
       "    </tr>\n",
       "    <tr>\n",
       "      <th>7264</th>\n",
       "      <td>117.0</td>\n",
       "      <td>335.0</td>\n",
       "      <td>899.0</td>\n",
       "      <td>507.0</td>\n",
       "      <td>NaN</td>\n",
       "      <td>NaN</td>\n",
       "      <td>NaN</td>\n",
       "      <td>NaN</td>\n",
       "    </tr>\n",
       "    <tr>\n",
       "      <th>7265</th>\n",
       "      <td>117.0</td>\n",
       "      <td>335.0</td>\n",
       "      <td>899.0</td>\n",
       "      <td>507.0</td>\n",
       "      <td>NaN</td>\n",
       "      <td>NaN</td>\n",
       "      <td>-488.0</td>\n",
       "      <td>936.0</td>\n",
       "    </tr>\n",
       "    <tr>\n",
       "      <th>7266</th>\n",
       "      <td>117.0</td>\n",
       "      <td>335.0</td>\n",
       "      <td>899.0</td>\n",
       "      <td>507.0</td>\n",
       "      <td>NaN</td>\n",
       "      <td>NaN</td>\n",
       "      <td>NaN</td>\n",
       "      <td>NaN</td>\n",
       "    </tr>\n",
       "    <tr>\n",
       "      <th>7267</th>\n",
       "      <td>117.0</td>\n",
       "      <td>335.0</td>\n",
       "      <td>899.0</td>\n",
       "      <td>507.0</td>\n",
       "      <td>NaN</td>\n",
       "      <td>NaN</td>\n",
       "      <td>-488.0</td>\n",
       "      <td>935.0</td>\n",
       "    </tr>\n",
       "  </tbody>\n",
       "</table>\n",
       "<p>7268 rows × 8 columns</p>\n",
       "</div>"
      ],
      "text/plain": [
       "      Gaze event duration  Eye movement type index  Fixation point X  \\\n",
       "0                   133.0                    241.0               NaN   \n",
       "1                   133.0                    241.0               NaN   \n",
       "2                    92.0                    148.0            1237.0   \n",
       "3                    92.0                    148.0            1237.0   \n",
       "4                    92.0                    148.0            1237.0   \n",
       "...                   ...                      ...               ...   \n",
       "7263                117.0                    335.0             899.0   \n",
       "7264                117.0                    335.0             899.0   \n",
       "7265                117.0                    335.0             899.0   \n",
       "7266                117.0                    335.0             899.0   \n",
       "7267                117.0                    335.0             899.0   \n",
       "\n",
       "      Fixation point Y Fixation point X (MCSnorm) Fixation point Y (MCSnorm)  \\\n",
       "0                  NaN                        NaN                        NaN   \n",
       "1                  NaN                        NaN                        NaN   \n",
       "2                347.0                     0,6668                     0,3217   \n",
       "3                347.0                     0,6668                     0,3217   \n",
       "4                347.0                     0,6668                     0,3217   \n",
       "...                ...                        ...                        ...   \n",
       "7263             507.0                        NaN                        NaN   \n",
       "7264             507.0                        NaN                        NaN   \n",
       "7265             507.0                        NaN                        NaN   \n",
       "7266             507.0                        NaN                        NaN   \n",
       "7267             507.0                        NaN                        NaN   \n",
       "\n",
       "      Mouse position X  Mouse position Y  \n",
       "0                  NaN               NaN  \n",
       "1                  NaN               NaN  \n",
       "2                  NaN               NaN  \n",
       "3                  NaN               NaN  \n",
       "4                  NaN               NaN  \n",
       "...                ...               ...  \n",
       "7263               NaN               NaN  \n",
       "7264               NaN               NaN  \n",
       "7265            -488.0             936.0  \n",
       "7266               NaN               NaN  \n",
       "7267            -488.0             935.0  \n",
       "\n",
       "[7268 rows x 8 columns]"
      ]
     },
     "execution_count": 21,
     "metadata": {},
     "output_type": "execute_result"
    }
   ],
   "source": [
    "df[['Gaze event duration',\n",
    "       'Eye movement type index', 'Fixation point X', 'Fixation point Y',\n",
    "       'Fixation point X (MCSnorm)', 'Fixation point Y (MCSnorm)',\n",
    "       'Mouse position X', 'Mouse position Y']]"
   ]
  },
  {
   "cell_type": "code",
   "execution_count": null,
   "metadata": {},
   "outputs": [],
   "source": []
  }
 ],
 "metadata": {
  "kernelspec": {
   "display_name": "base",
   "language": "python",
   "name": "python3"
  },
  "language_info": {
   "codemirror_mode": {
    "name": "ipython",
    "version": 3
   },
   "file_extension": ".py",
   "mimetype": "text/x-python",
   "name": "python",
   "nbconvert_exporter": "python",
   "pygments_lexer": "ipython3",
   "version": "3.12.4"
  }
 },
 "nbformat": 4,
 "nbformat_minor": 2
}
